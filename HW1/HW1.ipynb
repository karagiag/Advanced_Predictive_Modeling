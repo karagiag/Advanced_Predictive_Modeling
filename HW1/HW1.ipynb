{
 "cells": [
  {
   "cell_type": "markdown",
   "metadata": {},
   "source": [
    "\n",
    "# <p style=\"text-align: center;\">MIS 382N: Advanced Predictive Modeling</p>\n",
    "# <p style=\"text-align: center;\">Assignment 1</p>\n",
    "## <p style=\"text-align: center;\">Total points: 80</p>\n",
    "## <p style=\"text-align: center;\">Due: Wed, September 14</p>\n",
    "\n"
   ]
  },
  {
   "cell_type": "markdown",
   "metadata": {},
   "source": [
    "# Question 1: Applications of machine learning (10 pts)\n",
    "\n",
    "The article \"Of Prediction and Policy\", posted on Canvas under Modules --> Additional Resources, mentions several applications of machine learning. Pick any one of the works mentioned in this short article and:\n",
    "\n",
    "1. (2 pts) Find at least one technical article that describes the work and provide the  citation(s). Very easy to do by Googling the names/institutions.\n",
    "2. (4pts) In a few sentences describe the methodology/approach that was used.\n",
    "3. (2 pts) Summarize in a couple of sentences what you liked about this work, and\n",
    "4. (2 pts) Also summarize in a couple of sentences any concerns you may have about the work or its  application to societal problems.\n",
    "\n",
    "\n",
    "## Answer\n",
    "\n"
   ]
  },
  {
   "cell_type": "markdown",
   "metadata": {},
   "source": [
    "# Question 2: Maximum likelihood estimate (10 pts)\n",
    "\n",
    "Consider the following univariate probability distribution \n",
    "$$p(x|a,b) = \\frac{x^{a-1}}{\\Gamma(a)b^a}exp(-\\frac{x}{b}),$$ for $x \\geq 0$ and $a,b > 0.  ~~ \\Gamma(a)$ is a normalization term. \n",
    "\n",
    "You are given N i.i.d. data points drawn from this distribution. Derive the MLE estimate for $b$, in terms of $x_1, x_2, \\ldots x_N$ and $a$.\n",
    "\n",
    "## Answer\n",
    "\n"
   ]
  },
  {
   "cell_type": "markdown",
   "metadata": {},
   "source": [
    "# Question 3: Conditional Distributions (10 pts)\n",
    "\n",
    "The joint pdf of two random  variables $X_1$ and $X_2$ is  constant (i.e., the joint distribution is uniform) within the area shown below, and zero outside of it. Given this joint distribution, obtain  the following two univariate distributions from it. It is not necessary to write the equations, if the distributions can be plotted / described in full detail.\n",
    "\n",
    "a. (6 pts) The marginal distribution of $X_1$, $p_{X_1}(x_1)$\n",
    "\n",
    "b. (4 pts) The conditional distribution $p_{X_2|X_1}(x_2 \\,|\\, x_1 = 0.5)$\n",
    "\n",
    "<img src=\"hw1p3_questionpic.png\">\n",
    "\n",
    "## Answer\n",
    "\n"
   ]
  },
  {
   "cell_type": "markdown",
   "metadata": {},
   "source": [
    "# Question 4: Bivariate Normal Distribution (20 pts)\n",
    "\n",
    "Suppose $X$ and $Y$ are two random variables whose joint distribution is Normal (Gaussian), centered at (0,0) and with correlation $\\rho$. (See \"Bivariate Case\" in the Wikipedia entry for \"Multivariate Normal Distribution\" for the equation, or use just use the vector form given in the class notes, with $\\sigma_{12} = \\sigma_{21} = \\rho \\sigma_{x} \\sigma_{y} $). Consider 2 cases:\n",
    "1. $\\sigma_x^2 = 4; \\sigma_y^2 = 16; \\rho = 0$\n",
    "2. $\\sigma_x^2 = 4; \\sigma_y^2 = 16; \\rho = 0.5$\n",
    "\n",
    "a. (8 pts) Obtain contour plots for each of the two distributions using  Python (http://stanford.edu/~mwaskom/software/seaborn/generated/seaborn.kdeplot.html). \n",
    "\n",
    "b. (6 pts) View 3-D plots for the two distributions from at least two different viewing perspectives each (http://matplotlib.org/examples/mplot3d/rotate_axes3d_demo.html).\n",
    "\n",
    "c.  (6 pts) Consider the bivariate Normal Distribution given in part (ii). We can rotate this distribution by using the rotation matrix\n",
    "\\begin{equation} \\left[ \\begin{array}{cc} \\cos(\\theta) & -\\sin(\\theta) \\\\ \\sin(\\theta) & \\cos(\\theta) \\end{array} \\right] \\end{equation}\n",
    "Check Wikipedia for more info on rotation matrices. This is the same as creating two new random variables:\n",
    "\\begin{aligned}\n",
    "U = X \\cos(\\theta) - Y \\sin(\\theta) \\\\\n",
    "V = X \\sin(\\theta) + Y \\cos(\\theta)\n",
    "\\end{aligned}\n",
    "For a rotation of -45 degrees, plot the rotated distribution and fit a bivariate gaussian to this rotated distribution.\n",
    "\n",
    "## Answer\n",
    "\n"
   ]
  },
  {
   "cell_type": "markdown",
   "metadata": {},
   "source": [
    "# Question 5: MLR using scikit-learn (20 pts)\n",
    "\n",
    "Consider the dataset (Advertising.csv), which has the following variables:\n",
    "\n",
    "  * TV: advertising dollars spent on TV for a single product (in thousands of dollars)\n",
    "  * Radio: advertising dollars spent on Radio\n",
    "  * Newspaper: advertising dollars spent on Newspaper\n",
    "  * Sales (dependent variable): sales of a single product in a given market (in thousands of widgets)\n",
    "\n",
    "\n",
    "We are interested in predicting sales based on the first three \"feature\" variables (TV, Radio and Newspaper).\n",
    "\n",
    "1. (2 pts) Print the shape (number of rows and columns) of the data matrix , and show the first 5 rows. (Use shape and head commands in python)\n",
    "2. (4 pts) Visualize the relationship between the features and the response variable (Sales) using scatterplots. Comment on the fits.\n",
    "2. (2 pts) Fit a simple linear regression of SALES on TV. What is the regression coefficient for TV and what is its interpretation?\n",
    "3. Split the data randomly into a training and test set (keep 1/3rd of the data for test).\n",
    "\n",
    "  * (4 pts) Fit an MLR on all the feature variables using the training data and evaluate the trained model on the test data using root mean squared error. \n",
    "  * (2 pts) Report the MSE obtained on train data. How much does this increase when you score your\n",
    "model on test data?\n",
    "  * (2 pts) Report the coefficients obtained by your model.\n",
    "  * (4 pts) Do you think your MLR model is reasonable for this problem? You may look at the distribution of residuals to provide an informed answer.\n",
    "\n",
    "\n",
    "## Answer\n",
    "\n"
   ]
  },
  {
   "cell_type": "markdown",
   "metadata": {},
   "source": [
    "# Question 6: Illustrating the curse of dimensionality (10 pts)\n",
    "\n",
    "For a hypersphere of radius $a$ in $d$ dimensions, the volume is related to the surface area of a unit hypersphere (S) as\n",
    "    $$ V = \\frac{S \\times a^d}{d}.$$\n",
    "\n",
    "\n",
    "1. (6 pts) Use this result to show that the fraction of the volume which lies at values of the radius between $a - \\epsilon$ and $a$, where $0 < \\epsilon < a$, is given by\n",
    "$f = 1 - (1 - \\epsilon/a)^d$. Hence, show that for any fixed $\\epsilon$, no matter how small, this fraction tends to 1 as $d \\rightarrow \\infty$.\n",
    "2. (4 pts) Evaluate the ratio $f$ numerically, with $\\epsilon/a = 0.01$, for the cases $d$ = 2, 10, and 1000.\n",
    "\n",
    "\n",
    "This problem shows that if data are randomly distributed within a very high-dimensional hypersphere, most of the mass is near the surface and there is very little of it near the \"core\". Thus, there are few \"representative\" points."
   ]
  },
  {
   "cell_type": "markdown",
   "metadata": {},
   "source": [
    "## Answer\n",
    "\n"
   ]
  }
 ],
 "metadata": {
  "anaconda-cloud": {},
  "kernelspec": {
   "display_name": "Python 2",
   "language": "python",
   "name": "python2"
  },
  "language_info": {
   "codemirror_mode": {
    "name": "ipython",
    "version": 2
   },
   "file_extension": ".py",
   "mimetype": "text/x-python",
   "name": "python",
   "nbconvert_exporter": "python",
   "pygments_lexer": "ipython2",
   "version": "2.7.12"
  }
 },
 "nbformat": 4,
 "nbformat_minor": 0
}
