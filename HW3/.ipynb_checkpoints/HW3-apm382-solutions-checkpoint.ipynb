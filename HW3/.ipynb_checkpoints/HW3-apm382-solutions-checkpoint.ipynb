{
 "cells": [
  {
   "cell_type": "markdown",
   "metadata": {},
   "source": [
    "# <p style=\"text-align: center;\">MIS 382N: Advanced Predictive Modeling</p>\n",
    "# <p style=\"text-align: center;\">Assignment 3</p>\n",
    "## <p style=\"text-align: center;\">Total points: 80 </p>\n",
    "## <p style=\"text-align: center;\">Due: Mon, October 24, by 11:59pm</p>\n",
    "\n",
    "\n",
    "Your homework should be written in a **Jupyter notebook**. Please submit **only one** ipynb file from each group, and include the names of all the group members. Also, please make sure your code runs and the graphics (and anything else) are displayed in your notebook before submitting."
   ]
  },
  {
   "cell_type": "markdown",
   "metadata": {},
   "source": [
    "# Question 1 - Stochastic Gradient Descent (10pts)\n",
    "\n",
    "1. Using stochastic gradient descent, derive the coefficent updates for all 4 coefficients of the model: $$ y = w_0 + w_1*x_1 + w_2*x_1^2 + w_3*x_2 $$ Hint: start from the cost function (Assume sum of squared error). If you write the math by hand, submit that as a separate file and make a reference to it in your notebook or include the image in your notebook.\n",
    "2. Write Python code for an SGD solution to the non-linear model $$ y = w_0 + w_1*x_1 + w_2*x_1^2 + w_3*x_2$$ Try to format similarly to scikit-learn's models. There should be a _fit_ function that takes parameters X, y, learning rate, and number of iterations, and a _predict_ function that takes an X value (optionally, an array of values). Use your new gradient descent regression to predict the data given in 'samples.csv', for 10 epochs, using learning rates: [.0001, .001, .01] . Plot MSE and the $w$ parameters as a function of epoch count."
   ]
  },
  {
   "cell_type": "markdown",
   "metadata": {},
   "source": [
    "## Solution \n",
    "\n",
    "#### Part1\n",
    "\n",
    "The loss function for a single point $x_i, y_i$ is:\n",
    "\\begin{equation}\n",
    "E_i(w) = \\left( w_0 + x_{i1} w_1 + x_{i1}^2 w_2 + x_{i2} w_3 - y \\right)^2\n",
    "\\end{equation}\n",
    "\n",
    "Denote:\n",
    "\\begin{equation}\n",
    "e_i(w) = w_0 + x_{i1} w_1 + x_{i1}^2 w_2 + x_{i2} w_3 - y\n",
    "\\end{equation}\n",
    "\n",
    "Then:\n",
    "\\begin{align}\n",
    "E_i(w) = e_i(w)^2 \\\\\n",
    "\\frac{\\partial E_i}{\\partial w_0} = 2 e_i(w) \\\\\n",
    "\\frac{\\partial E_i}{\\partial w_1} = 2 e_i(w) x_{i1} \\\\\n",
    "\\frac{\\partial E_i}{\\partial w_2} = 2 e_i(w) x_{i1}^2 \\\\\n",
    "\\frac{\\partial E_i}{\\partial w_3} = 2 e_i(w) x_{i2}\n",
    "\\end{align}\n",
    "\n",
    "The update for each element of $w$ is:\n",
    "\\begin{equation}\n",
    "w_j^{\\tau+1} = w_j^{\\tau} - \\eta \\frac{\\partial E_i}{\\partial w_j}\n",
    "\\end{equation}"
   ]
  },
  {
   "cell_type": "code",
   "execution_count": 12,
   "metadata": {
    "collapsed": false
   },
   "outputs": [],
   "source": [
    "%matplotlib inline\n",
    "import random\n",
    "import numpy as np\n",
    "import matplotlib.pyplot as plt\n",
    "import pandas as pd\n",
    "\n",
    "class LinearRegression_SGD:\n",
    "    \n",
    "    def __init__(self, learning_rate, n_epoch):\n",
    "        self.learning_rate = learning_rate\n",
    "        self.n_epoch = n_epoch\n",
    "        \n",
    "    def fit(self, X, y, logplot = False):\n",
    "        mse = []\n",
    "        coefs = []\n",
    "        self.coef = np.zeros(X.shape[1] + 2)\n",
    "        x2 = np.array(X['x1']**2)\n",
    "        X = X.values\n",
    "        X = np.c_[np.ones(X.shape[0]), X]\n",
    "        X = np.c_[x2 , X]\n",
    "        for epoch in range(self.n_epoch):\n",
    "            for i in range(X.shape[0]):\n",
    "                X_i = X[i,:]\n",
    "                e_i = y[i] - self.linearPredict(X_i)\n",
    "                self.coef = self.coef + self.learning_rate * e_i * X_i\n",
    "            if logplot:\n",
    "                coefs.append(np.log(np.abs( self.coef )))\n",
    "            else:\n",
    "                coefs.append(self.coef)\n",
    "            residuals = y - self.linearPredict(X)\n",
    "            if logplot:\n",
    "                mse.append(np.log( np.mean(residuals**2) ))\n",
    "            else:\n",
    "                mse.append(np.mean(residuals**2))\n",
    "        plt.plot(range(self.n_epoch),mse)\n",
    "        plt.xlabel('epoch')\n",
    "        plt.ylabel('MSE')\n",
    "        if logplot:\n",
    "            plt.ylabel('log of MSE')\n",
    "        plt.figure()\n",
    "        coefs = np.array(coefs)\n",
    "        plt.plot(range(self.n_epoch),coefs[:,0],label='w0')\n",
    "        plt.plot(range(self.n_epoch),coefs[:,1],label='w1')\n",
    "        plt.plot(range(self.n_epoch),coefs[:,2],label='w2')\n",
    "        plt.plot(range(self.n_epoch),coefs[:,3],label='w3')\n",
    "        plt.legend()\n",
    "        plt.xlabel('epoch')\n",
    "        plt.ylabel('parameter value')\n",
    "        if logplot:\n",
    "            plt.ylabel('log of parameter magnitude')\n",
    "\n",
    "    def predict(self, X):\n",
    "        x2 = np.array(X['x1']**2)\n",
    "        X = X.values\n",
    "        X = np.c_[np.ones(X.shape[0]), X]\n",
    "        X = np.c_[x2 , X]\n",
    "        return self.linearPredict(X)\n",
    "        \n",
    "    def linearPredict(self, X):\n",
    "        return X.dot(self.coef)"
   ]
  },
  {
   "cell_type": "code",
   "execution_count": 13,
   "metadata": {
    "collapsed": false
   },
   "outputs": [
    {
     "data": {
      "image/png": "[encoded data removed]",
      "text/plain": [
       "<matplotlib.figure.Figure at 0x7fcd6578cb50>"
      ]
     },
     "metadata": {},
     "output_type": "display_data"
    },
    {
     "data": {
      "image/png": "[encoded data removed]",
      "text/plain": [
       "<matplotlib.figure.Figure at 0x7fcd62795d50>"
      ]
     },
     "metadata": {},
     "output_type": "display_data"
    }
   ],
   "source": [
    "data = pd.read_csv('samples.csv',index_col = 0)\n",
    "X = data[['x1','x2']]\n",
    "y = data.y\n",
    "\n",
    "sgd = LinearRegression_SGD(.0001,10)\n",
    "sgd.fit(X,y)"
   ]
  },
  {
   "cell_type": "code",
   "execution_count": 14,
   "metadata": {
    "collapsed": false
   },
   "outputs": [
    {
     "data": {
      "image/png": "[encoded data removed]",
      "text/plain": [
       "<matplotlib.figure.Figure at 0x7fcd6578cf50>"
      ]
     },
     "metadata": {},
     "output_type": "display_data"
    },
    {
     "data": {
      "image/png": "[encoded data removed]",
      "text/plain": [
       "<matplotlib.figure.Figure at 0x7fcd62b4c0d0>"
      ]
     },
     "metadata": {},
     "output_type": "display_data"
    }
   ],
   "source": [
    "sgd = LinearRegression_SGD(0.001,10)\n",
    "sgd.fit(X,y)"
   ]
  },
  {
   "cell_type": "code",
   "execution_count": 15,
   "metadata": {
    "collapsed": false
   },
   "outputs": [
    {
     "data": {
      "image/png": "[encoded data removed]",
      "text/plain": [
       "<matplotlib.figure.Figure at 0x7fcd65356050>"
      ]
     },
     "metadata": {},
     "output_type": "display_data"
    },
    {
     "data": {
      "image/png": "[encoded data removed]",
      "text/plain": [
       "<matplotlib.figure.Figure at 0x7fcd653561d0>"
      ]
     },
     "metadata": {},
     "output_type": "display_data"
    }
   ],
   "source": [
    "sgd = LinearRegression_SGD(0.01,10)\n",
    "sgd.fit(X,y)"
   ]
  },
  {
   "cell_type": "markdown",
   "metadata": {},
   "source": [
    "The learning rate of .001 clearly works the best - after a single epoch most of the parameters are very close to their final values. However, the learning rate of .0001 also reaches these values after more epochs.\n",
    "The learning rate of .01 causes the descent to continually overreach, resulting in exponential growth of both the parameters and the error. Because of its exponential nature, this is better visualized with a logarithmic plot (not required for HW)."
   ]
  },
  {
   "cell_type": "code",
   "execution_count": 16,
   "metadata": {
    "collapsed": false
   },
   "outputs": [
    {
     "data": {
      "image/png": "[encoded data removed]",
      "text/plain": [
       "<matplotlib.figure.Figure at 0x7fcd624b1710>"
      ]
     },
     "metadata": {},
     "output_type": "display_data"
    },
    {
     "data": {
      "image/png": "[encoded data removed]",
      "text/plain": [
       "<matplotlib.figure.Figure at 0x7fcd6254b0d0>"
      ]
     },
     "metadata": {},
     "output_type": "display_data"
    }
   ],
   "source": [
    "sgd = LinearRegression_SGD(0.01,10)\n",
    "sgd.fit(X,y, logplot = True)"
   ]
  },
  {
   "cell_type": "markdown",
   "metadata": {},
   "source": [
    "# Question 2: Gradient Descent (5 pts)\n",
    "\n",
    "Suppose we are trying to use gradient descent to minimize a cost function y = f(w) as shown in the figure below. This function is linearly decreasing between A and B, constant between B and C, quadratic between C and D and constant between D and E. Assume that we have 10000 data points in our training set. If we choose the starting point between B and C, will we be able to find the local minima? Explain your answer. If your answer is \"Yes\", can you give a bound on the number of iterations required to get to the local minima?\n",
    "\n",
    "<img src=\"sgd.png\">"
   ]
  },
  {
   "cell_type": "markdown",
   "metadata": {},
   "source": [
    "# Answer\n",
    "\n",
    "You will not find the local minima (as shown in the figure) as the partial derivative of the cost function is zero on any starting point between B and C. Therefore, the w coefficients will not be updated, and hence you will not be able to find the local minima regardless of how many iterations you try."
   ]
  },
  {
   "cell_type": "markdown",
   "metadata": {
    "collapsed": true
   },
   "source": [
    "# Question 3: Multi-layer Perceptron regressor (15 points)\n",
    "\n",
    "In this question, you will explore the application of Multi-layer Perceptron (MLP) regression using sklearn package in Python. We will use the same dataset used in HW2 Q5: Hitters.csv [here](https://rdrr.io/cran/ISLR/man/Hitters.html). \n",
    "\n",
    "Following code will load and split the data into training and test set using [train_test_split](http://scikit-learn.org/stable/modules/generated/sklearn.model_selection.train_test_split.html) with **random state 42** and **test_size = 0.33**:"
   ]
  },
  {
   "cell_type": "code",
   "execution_count": null,
   "metadata": {
    "collapsed": false
   },
   "outputs": [],
   "source": [
    "import pandas as pd\n",
    "import numpy as np\n",
    "from sklearn.model_selection import (train_test_split,KFold)\n",
    "from sklearn.metrics import mean_squared_error\n",
    "from sklearn.neural_network import MLPRegressor\n",
    "from sklearn.preprocessing import StandardScaler\n",
    "import matplotlib.pyplot as plt\n",
    "%matplotlib inline\n",
    "\n",
    "data = pd.read_csv('Hitters.csv')\n",
    "label_name = 'Salary'\n",
    "y = data[label_name]\n",
    "X = data.drop(label_name,axis=1)\n",
    "print X.shape\n",
    "\n",
    "X_train, X_test, y_train, y_test = train_test_split(X,y,test_size = 0.33, random_state=42)"
   ]
  },
  {
   "cell_type": "markdown",
   "metadata": {},
   "source": [
    "One more thing to use in this problem is [StandardScaler](http://scikit-learn.org/stable/modules/generated/sklearn.preprocessing.StandardScaler.html). Instead of fitting a model on original data, use StandardScaler to make each feature centered ([Example](http://scikit-learn.org/stable/auto_examples/applications/plot_prediction_latency.html#sphx-glr-auto-examples-applications-plot-prediction-latency-py)). Whenever you have training and test data, fit a scaler on training data and use this scaler on test data. Here, scale only features (independent variables), not target variable y."
   ]
  },
  {
   "cell_type": "markdown",
   "metadata": {},
   "source": [
    "1) Use [sklearn.neural_nework.MLPRegressor](http://scikit-learn.org/stable/modules/generated/sklearn.neural_network.MLPRegressor.html#sklearn.neural_network.MLPRegressor) to do a 5-fold cross validation using sklearn's [KFold](http://scikit-learn.org/stable/modules/generated/sklearn.model_selection.KFold.html#sklearn.model_selection.KFold). The cross validation must be performed on the **training data**. Use following parameter settings for MLPRegressor:\n",
    "\n",
    "    activation = 'tanh', solver = 'sgd', learning_rate='constant', random_state=42,\n",
    "    batch_size=40, learning_rate_init = 0.001\n",
    "    \n",
    "Now, consider two different settings for the number of hidden units:\n",
    "    \n",
    "   (a) *hidden_layer_sizes = (2,)* (b) *hidden_layer_sizes = (15,)*\n",
    "    \n",
    "   Report the average Root Mean Squared Error (RMSE) value based on your 5-fold cross validation for each model: (a) and (b) (6pts)\n",
    "   \n",
    "   \n",
    "2) Now, using the same parameters used in part 1), train MLPRegressor models on whole training data and report RMSE score for both Train and Test set (Again, use StandardScaler). Which model works better, (a) or (b)? Briefly analyze the result in terms of the number of hidden units. (5pts)\n",
    "\n",
    "\n",
    "3) MLPRegressor has a built-in attribute *loss\\_curve\\_* which returns the loss at each epoch (misleadingly referred to as \"iteration\" in scikit documentation, though they use epoch in the actual code!). For example, if your model is named as *my_model* you can call it as *my\\_model.loss\\_curve\\_* ([example](http://scikit-learn.org/stable/auto_examples/neural_networks/plot_mlp_training_curves.html#sphx-glr-auto-examples-neural-networks-plot-mlp-training-curves-py)). Plot two curves for model (a) and (b) in one figure, where *X-axis* is epoch  number and *Y-axis* is squared root of *loss\\_curve\\_* value. (4pts)"
   ]
  },
  {
   "cell_type": "markdown",
   "metadata": {},
   "source": [
    "## Solution\n",
    "\n",
    "### 1)"
   ]
  },
  {
   "cell_type": "code",
   "execution_count": 8,
   "metadata": {
    "collapsed": false
   },
   "outputs": [
    {
     "name": "stdout",
     "output_type": "stream",
     "text": [
      "<hidden layer: (2,)>\n",
      " Average RMSE (CV): 422.623625956\n",
      "\n",
      "<hidden layer: (15,)>\n",
      " Average RMSE (CV): 316.870006735\n",
      "\n"
     ]
    }
   ],
   "source": [
    "import pandas as pd\n",
    "import numpy as np\n",
    "from sklearn.model_selection import (train_test_split,KFold)\n",
    "from sklearn.metrics import mean_squared_error\n",
    "from sklearn.neural_network import MLPRegressor\n",
    "from sklearn.preprocessing import StandardScaler\n",
    "import matplotlib.pyplot as plt\n",
    "%matplotlib inline\n",
    "\n",
    "data = pd.read_csv('Hitters.csv')\n",
    "label_name = 'Salary'\n",
    "y = data[label_name]\n",
    "X = data.drop(label_name,axis=1)\n",
    "\n",
    "X_train, X_test, y_train, y_test = train_test_split(X,y,test_size = 0.33, random_state=42)\n",
    "\n",
    "param_hidden_layers = [(2,),(15,)]\n",
    "\n",
    "n_folds = 5\n",
    "k_folds = KFold(n_splits=n_folds)\n",
    "lrate = 0.001\n",
    "\n",
    "for param_hidden in param_hidden_layers:\n",
    "    aRMSE = 0\n",
    "    for train_idx, test_idx in k_folds.split(X_train):\n",
    "        regMLP = MLPRegressor(activation = 'tanh',\n",
    "                              solver = 'sgd',\n",
    "                              learning_rate='constant',\n",
    "                              random_state=42,\n",
    "                              batch_size=40,\n",
    "                              learning_rate_init = lrate,\n",
    "                              hidden_layer_sizes = param_hidden)\n",
    "        stdScaler = StandardScaler()\n",
    "        xTrain = stdScaler.fit_transform(X_train.iloc[train_idx,:])\n",
    "        yTrain = y_train.iloc[train_idx]\n",
    "            \n",
    "        regMLP.fit(xTrain,yTrain)\n",
    "        aRMSE += np.sqrt(mean_squared_error(y_train.iloc[test_idx],\n",
    "                                            regMLP.predict(stdScaler.transform(X_train.iloc[test_idx,:]))))/n_folds\n",
    "    \n",
    "    print '<hidden layer: {}>\\n Average RMSE (CV): {}\\n'.format(param_hidden,aRMSE)"
   ]
  },
  {
   "cell_type": "markdown",
   "metadata": {},
   "source": [
    "### 2)"
   ]
  },
  {
   "cell_type": "code",
   "execution_count": 2,
   "metadata": {
    "collapsed": false
   },
   "outputs": [
    {
     "name": "stdout",
     "output_type": "stream",
     "text": [
      "<hidden layer: (2,)>\n",
      " RMSE (Train) = 353.802919864, RMSE (Test) = 489.206156224\n",
      "\n",
      "<hidden layer: (15,)>\n",
      " RMSE (Train) = 294.329544051, RMSE (Test) = 415.025680019\n",
      "\n"
     ]
    }
   ],
   "source": [
    "RMSE_train_test = {}\n",
    "regMLPs = {}\n",
    "for param_hidden in param_hidden_layers:\n",
    "    regMLP = MLPRegressor(activation = 'tanh',\n",
    "                          solver = 'sgd',\n",
    "                          learning_rate='constant',\n",
    "                          random_state=42,\n",
    "                          batch_size=40,\n",
    "                          learning_rate_init = lrate,\n",
    "                          hidden_layer_sizes = param_hidden)\n",
    "    stdScaler = StandardScaler()\n",
    "    xTrain = stdScaler.fit_transform(X_train)\n",
    "    regMLP.fit(xTrain,y_train)\n",
    "    RMSE_train_test[param_hidden] = [np.sqrt(mean_squared_error(y_train,regMLP.predict(xTrain))),\n",
    "                                     np.sqrt(mean_squared_error(y_test,regMLP.predict(stdScaler.transform(X_test))))]\n",
    "    \n",
    "    regMLPs[param_hidden] = regMLP\n",
    "    \n",
    "    print '<hidden layer: {}>\\n RMSE (Train) = {}, RMSE (Test) = {}\\n'.format(param_hidden,\n",
    "                                                                              RMSE_train_test[param_hidden][0],\n",
    "                                                                              RMSE_train_test[param_hidden][1])"
   ]
  },
  {
   "cell_type": "markdown",
   "metadata": {},
   "source": [
    "MLP regressor with 15 hidden units performed better than the one with only 2 hidden units. Increasing number of hidden units is directly related to the complexity of model, and this regression problem was better fit by the more complex model.\n",
    "\n",
    "(Note: Increasing the number of hidden units and hidden layers will make model more complex. However, excessive number of hidden units and hidden layers can also hurt your model by leading it to overfit.)"
   ]
  },
  {
   "cell_type": "markdown",
   "metadata": {},
   "source": [
    "### 3)"
   ]
  },
  {
   "cell_type": "code",
   "execution_count": 3,
   "metadata": {
    "collapsed": false
   },
   "outputs": [
    {
     "data": {
      "text/plain": [
       "<matplotlib.text.Text at 0x110db83d0>"
      ]
     },
     "execution_count": 3,
     "metadata": {},
     "output_type": "execute_result"
    },
    {
     "data": {
      "image/png": "[encoded data removed]",
      "text/plain": [
       "<matplotlib.figure.Figure at 0x110d37d50>"
      ]
     },
     "metadata": {},
     "output_type": "display_data"
    }
   ],
   "source": [
    "import matplotlib.pyplot as plt\n",
    "%matplotlib inline\n",
    "\n",
    "for param_hidden in param_hidden_layers:\n",
    "    regMLP = regMLPs[param_hidden]\n",
    "    plt.plot(np.sqrt(regMLP.loss_curve_), label = str(param_hidden))\n",
    "\n",
    "plt.legend()\n",
    "plt.ylabel('RMSE')\n",
    "plt.xlabel('epoch number')"
   ]
  },
  {
   "cell_type": "markdown",
   "metadata": {},
   "source": [
    "# Question 4 - Bayesian Classifiers (10 pts)\n",
    "\n",
    "Download the Smarket dataset from Canvas. This contains about four years worth of daily prices for one stock. The goal is to predict whether or not the stock price will go up or down, and the features are the stock prices of the last five days.  \n",
    "The code below loads the dataset and all necessary sklearn modules (not that you can't use more if you feel like it). Look up any module on the scikit-learn website for a full description.\n",
    "\n",
    "1. The last 50 points will be the test dataset. For training, use the 1000 points prior to these 50 test points.\n",
    "2. Train Linear Discriminant Analysis, Quadratic Discriminant Analysis, and (Gaussian) Naive Bayes. Extract the probability of the stock price going up for each row in the test set.\n",
    "3. Plot the receiver operating characteristic (ROC) curve of each model, using the extracted probabilities and the true values for the test set. (3 pts)\n",
    "4. Report the area under the ROC curve (AUC) for each model. (2 pts)\n",
    "6. Justify the performance of each model, relative to the others. (1 pts)\n",
    "7. Repeat steps 1-6, only using the prior 100 points for training. Explain the changes in model performance. (4 pts)"
   ]
  },
  {
   "cell_type": "code",
   "execution_count": 11,
   "metadata": {
    "collapsed": true
   },
   "outputs": [],
   "source": [
    "import pandas as pd\n",
    "from sklearn.model_selection import train_test_split\n",
    "from sklearn.metrics import roc_curve, roc_auc_score\n",
    "from sklearn.naive_bayes import GaussianNB\n",
    "from sklearn.discriminant_analysis import LinearDiscriminantAnalysis as LDA\n",
    "from sklearn.discriminant_analysis import QuadraticDiscriminantAnalysis as QDA\n",
    "data = pd.read_csv('Smarket.csv', usecols=['Lag1','Lag2','Lag3','Lag4','Lag5','Direction'])"
   ]
  },
  {
   "cell_type": "markdown",
   "metadata": {},
   "source": [
    "## Solution"
   ]
  },
  {
   "cell_type": "code",
   "execution_count": 12,
   "metadata": {
    "collapsed": true
   },
   "outputs": [],
   "source": [
    "%matplotlib inline\n",
    "import numpy as np\n",
    "import matplotlib.pyplot as plt\n",
    "\n",
    "y = data['Direction'] == 'Up'\n",
    "X = data.drop('Direction',axis=1)"
   ]
  },
  {
   "cell_type": "code",
   "execution_count": 13,
   "metadata": {
    "collapsed": true
   },
   "outputs": [],
   "source": [
    "def run_model(model, train_size):\n",
    "    X_train = X.iloc[-(50+train_size):-50,:]\n",
    "    X_test = X.iloc[-50:,:]\n",
    "    y_train = y.iloc[-(50+train_size):-50]\n",
    "    y_test = y.iloc[-50:]\n",
    "    \n",
    "    model.fit(X_train, y_train)\n",
    "    estimates_test = model.predict_proba(X_test)[:,1]\n",
    "    fpr, tpr, threshholds = roc_curve(y_test, estimates_test)\n",
    "    plt.plot(fpr, tpr)\n",
    "    plt.title('roc curve')\n",
    "    return {'AUC':roc_auc_score(y_test, estimates_test),'accuracy':np.mean(y_test==(estimates_test > .5))}"
   ]
  },
  {
   "cell_type": "code",
   "execution_count": 14,
   "metadata": {
    "collapsed": false
   },
   "outputs": [
    {
     "data": {
      "text/plain": [
       "{'AUC': 0.52000000000000002, 'accuracy': 0.57999999999999996}"
      ]
     },
     "execution_count": 14,
     "metadata": {},
     "output_type": "execute_result"
    },
    {
     "data": {
      "image/png": "[encoded data removed]",
      "text/plain": [
       "<matplotlib.figure.Figure at 0x111ed0a90>"
      ]
     },
     "metadata": {},
     "output_type": "display_data"
    }
   ],
   "source": [
    "run_model(LDA(), 1000)"
   ]
  },
  {
   "cell_type": "code",
   "execution_count": 15,
   "metadata": {
    "collapsed": false
   },
   "outputs": [
    {
     "data": {
      "text/plain": [
       "{'AUC': 0.62833333333333341, 'accuracy': 0.59999999999999998}"
      ]
     },
     "execution_count": 15,
     "metadata": {},
     "output_type": "execute_result"
    },
    {
     "data": {
      "image/png": "[encoded data removed]",
      "text/plain": [
       "<matplotlib.figure.Figure at 0x111565390>"
      ]
     },
     "metadata": {},
     "output_type": "display_data"
    }
   ],
   "source": [
    "run_model(QDA(), 1000)"
   ]
  },
  {
   "cell_type": "code",
   "execution_count": 16,
   "metadata": {
    "collapsed": false
   },
   "outputs": [
    {
     "data": {
      "text/plain": [
       "{'AUC': 0.52166666666666672, 'accuracy': 0.64000000000000001}"
      ]
     },
     "execution_count": 16,
     "metadata": {},
     "output_type": "execute_result"
    },
    {
     "data": {
      "image/png": "[encoded data removed]",
      "text/plain": [
       "<matplotlib.figure.Figure at 0x1120db490>"
      ]
     },
     "metadata": {},
     "output_type": "display_data"
    }
   ],
   "source": [
    "run_model(GaussianNB(), 1000)"
   ]
  },
  {
   "cell_type": "code",
   "execution_count": 17,
   "metadata": {
    "collapsed": false
   },
   "outputs": [
    {
     "data": {
      "text/plain": [
       "{'AUC': 0.42166666666666669, 'accuracy': 0.57999999999999996}"
      ]
     },
     "execution_count": 17,
     "metadata": {},
     "output_type": "execute_result"
    },
    {
     "data": {
      "image/png": "[encoded data removed]",
      "text/plain": [
       "<matplotlib.figure.Figure at 0x1120f99d0>"
      ]
     },
     "metadata": {},
     "output_type": "display_data"
    }
   ],
   "source": [
    "run_model(LDA(), 100)"
   ]
  },
  {
   "cell_type": "code",
   "execution_count": 18,
   "metadata": {
    "collapsed": false
   },
   "outputs": [
    {
     "data": {
      "text/plain": [
       "{'AUC': 0.5083333333333333, 'accuracy': 0.56000000000000005}"
      ]
     },
     "execution_count": 18,
     "metadata": {},
     "output_type": "execute_result"
    },
    {
     "data": {
      "image/png": "[encoded data removed]",
      "text/plain": [
       "<matplotlib.figure.Figure at 0x112357550>"
      ]
     },
     "metadata": {},
     "output_type": "display_data"
    }
   ],
   "source": [
    "run_model(QDA(), 100)"
   ]
  },
  {
   "cell_type": "code",
   "execution_count": 19,
   "metadata": {
    "collapsed": false
   },
   "outputs": [
    {
     "data": {
      "text/plain": [
       "{'AUC': 0.5083333333333333, 'accuracy': 0.54000000000000004}"
      ]
     },
     "execution_count": 19,
     "metadata": {},
     "output_type": "execute_result"
    },
    {
     "data": {
      "image/png": "[encoded data removed]",
      "text/plain": [
       "<matplotlib.figure.Figure at 0x1123fe810>"
      ]
     },
     "metadata": {},
     "output_type": "display_data"
    }
   ],
   "source": [
    "run_model(GaussianNB(), 100)"
   ]
  },
  {
   "cell_type": "markdown",
   "metadata": {},
   "source": [
    "The AUC results show that LDA and Naive Bayes obtain roughly the same (very poor) accuracy, while QDA performs noticeably better. QDA, unlike the other two, assumes that days of increasing stock price and days of decreasing stock price are *not* distributed with the same variance. Perhaps this assumption is helpful in understanding the data. Plotting the decision boundary for QDA across several variables might give more insight into its advantange - but unfortunately sklearn does not automatically gather the boundary, you would have to code that yourself.\n",
    "\n",
    "When using only 100 points, the performance of QDA and Naive Bayes drop to nearly 0.5 AUC, which is the performance of a completely random guess. Furthermore, LDA's AUC is lower than 0.5 on the test data. The clearest explanation for a worse-than-random performance is that the training data available actually has different characteristics than the test data. Remember that the data in this case is stock price - an extremely complex system with both short term and long term trends. The last 100 days probably contained events and contributing factors that had little to do with the events of the next 50. Training on the next 1000 days is more likely to capture long-term motifs/artifacts of stock price."
   ]
  },
  {
   "cell_type": "markdown",
   "metadata": {},
   "source": [
    "# Question 5 - Logistic Regression (15pts)\n",
    "\n",
    "In this question we will be predicting mile per gallon (mpg) for Auto data set. ('Auto.csv' in Canvas)\n",
    "1. Convert mpg to a binary variable mpg01 which is 1 if had an mpg is greater than median mpg and zero otherwise\n",
    "2. Split the data into training and test. Use 42 as random seed and use 1/3rd of the data for testing. Our y variable is mpg01 and X matrix includes all the other variables except mpg01.\n",
    "3. Train a logistic regression with almost no regularization (pass l2 (ridge) to penalty and 1,000,000 to the C parameter which is the inverse of regularization strength lambda. This essentially does l2 regularization but applies very little weight to the penalty term) and report the [confusion matrix](http://scikit-learn.org/stable/modules/generated/sklearn.metrics.confusion_matrix.html) on the test data. Also report the accuracy for the \"mpg01 = 0\" class, the \"mpg01 = 1\" class, and the average per-class accuracy on the test data. Average per-class accuracy is described in this [post](http://rasbt.github.io/mlxtend/user_guide/evaluate/scoring/). You can use your confusion matrix to calculate this.\n",
    "4. Repeat step 3 except use l2 penalty with Cs of [0.001,0.01, 0.1, 1, 10 ,100, 1000]. You will want to use k-fold cross validation to select the best parameter. To evaluate which parameter is best, maximize the average per-class accuracy. To help with this task, check out [GridSearchCV](http://scikit-learn.org/stable/modules/generated/sklearn.model_selection.GridSearchCV.html#sklearn.model_selection.GridSearchCV) and how to make your own [custom scorer](http://scikit-learn.org/stable/modules/model_evaluation.html).\n",
    "5. Repeat question 4 except use l1 instead of l2 as the penalty type, use Cs of  [0.001, 0.01, ..., 1000]\n",
    "6. Which model produces the best average per-class accuracy? Why do you think this is the case? How do the models handle the different classes, and why is this so?"
   ]
  },
  {
   "cell_type": "markdown",
   "metadata": {},
   "source": [
    "Following code will load and clean the dataset and load some useful functions"
   ]
  },
  {
   "cell_type": "code",
   "execution_count": 25,
   "metadata": {
    "collapsed": false
   },
   "outputs": [
    {
     "data": {
      "text/html": [
       "<div>\n",
       "<table border=\"1\" class=\"dataframe\">\n",
       "  <thead>\n",
       "    <tr style=\"text-align: right;\">\n",
       "      <th></th>\n",
       "      <th>mpg</th>\n",
       "      <th>cylinders</th>\n",
       "      <th>displacement</th>\n",
       "      <th>horsepower</th>\n",
       "      <th>weight</th>\n",
       "      <th>acceleration</th>\n",
       "      <th>year</th>\n",
       "      <th>origin</th>\n",
       "    </tr>\n",
       "  </thead>\n",
       "  <tbody>\n",
       "    <tr>\n",
       "      <th>0</th>\n",
       "      <td>18.0</td>\n",
       "      <td>8</td>\n",
       "      <td>307.0</td>\n",
       "      <td>130.0</td>\n",
       "      <td>3504</td>\n",
       "      <td>12.0</td>\n",
       "      <td>70</td>\n",
       "      <td>1</td>\n",
       "    </tr>\n",
       "    <tr>\n",
       "      <th>1</th>\n",
       "      <td>15.0</td>\n",
       "      <td>8</td>\n",
       "      <td>350.0</td>\n",
       "      <td>165.0</td>\n",
       "      <td>3693</td>\n",
       "      <td>11.5</td>\n",
       "      <td>70</td>\n",
       "      <td>1</td>\n",
       "    </tr>\n",
       "    <tr>\n",
       "      <th>2</th>\n",
       "      <td>18.0</td>\n",
       "      <td>8</td>\n",
       "      <td>318.0</td>\n",
       "      <td>150.0</td>\n",
       "      <td>3436</td>\n",
       "      <td>11.0</td>\n",
       "      <td>70</td>\n",
       "      <td>1</td>\n",
       "    </tr>\n",
       "    <tr>\n",
       "      <th>3</th>\n",
       "      <td>16.0</td>\n",
       "      <td>8</td>\n",
       "      <td>304.0</td>\n",
       "      <td>150.0</td>\n",
       "      <td>3433</td>\n",
       "      <td>12.0</td>\n",
       "      <td>70</td>\n",
       "      <td>1</td>\n",
       "    </tr>\n",
       "    <tr>\n",
       "      <th>4</th>\n",
       "      <td>17.0</td>\n",
       "      <td>8</td>\n",
       "      <td>302.0</td>\n",
       "      <td>140.0</td>\n",
       "      <td>3449</td>\n",
       "      <td>10.5</td>\n",
       "      <td>70</td>\n",
       "      <td>1</td>\n",
       "    </tr>\n",
       "  </tbody>\n",
       "</table>\n",
       "</div>"
      ],
      "text/plain": [
       "    mpg  cylinders  displacement  horsepower  weight  acceleration  year  \\\n",
       "0  18.0          8         307.0       130.0    3504          12.0    70   \n",
       "1  15.0          8         350.0       165.0    3693          11.5    70   \n",
       "2  18.0          8         318.0       150.0    3436          11.0    70   \n",
       "3  16.0          8         304.0       150.0    3433          12.0    70   \n",
       "4  17.0          8         302.0       140.0    3449          10.5    70   \n",
       "\n",
       "   origin  \n",
       "0       1  \n",
       "1       1  \n",
       "2       1  \n",
       "3       1  \n",
       "4       1  "
      ]
     },
     "execution_count": 25,
     "metadata": {},
     "output_type": "execute_result"
    }
   ],
   "source": [
    "import pandas as pd\n",
    "import numpy as np\n",
    "\n",
    "from sklearn import cross_validation\n",
    "# from sklearn import model_selection # Use model_selection instead of cross_validation in sklearn version >=0.18\n",
    "from sklearn.linear_model import LogisticRegression\n",
    "from sklearn.metrics import mean_squared_error, confusion_matrix\n",
    "from sklearn.grid_search import GridSearchCV\n",
    "\n",
    "Auto = pd.read_csv('Auto.csv', na_values='?').drop('name',axis = 1).dropna()\n",
    "Auto.head(5)"
   ]
  },
  {
   "cell_type": "markdown",
   "metadata": {},
   "source": [
    "## Solution"
   ]
  },
  {
   "cell_type": "code",
   "execution_count": 26,
   "metadata": {
    "collapsed": false
   },
   "outputs": [],
   "source": [
    "import pandas as pd\n",
    "import numpy as np\n",
    "\n",
    "from sklearn import cross_validation\n",
    "# from sklearn import model_selection # Use model_selection instead of cross_validation in sklearn version >=0.18\n",
    "from sklearn.linear_model import LogisticRegression\n",
    "from sklearn.metrics import mean_squared_error, confusion_matrix\n",
    "from sklearn.grid_search import GridSearchCV\n",
    "\n",
    "Auto = pd.read_csv('Auto.csv', na_values='?').drop('name',axis = 1).dropna()\n",
    "Auto.head(5)\n",
    "\n",
    "median = np.median(Auto.mpg)\n",
    "mpg01 = []\n",
    "\n",
    "for p in Auto.mpg.values:\n",
    "    mpg01.append(int(p > median))\n",
    "\n",
    "Auto['mpg'] = mpg01\n",
    "\n",
    "y = Auto.mpg\n",
    "X = Auto.drop('mpg' , axis = 1)\n",
    "\n",
    "X_train, X_test , y_train, y_test = cross_validation.train_test_split(X, y, test_size=0.33, random_state=42)"
   ]
  },
  {
   "cell_type": "code",
   "execution_count": 27,
   "metadata": {
    "collapsed": false
   },
   "outputs": [
    {
     "name": "stdout",
     "output_type": "stream",
     "text": [
      "Accuracy: 0.869231\n"
     ]
    }
   ],
   "source": [
    "logreg = LogisticRegression(penalty = 'l2', C=1000000)\n",
    "logreg.fit(X_train, y_train)\n",
    "scoreLR = accuracy_score(y_test, logreg.predict(X_test))\n",
    "print(\"Accuracy: %f\" % scoreLR)"
   ]
  },
  {
   "cell_type": "code",
   "execution_count": 28,
   "metadata": {
    "collapsed": false
   },
   "outputs": [
    {
     "name": "stdout",
     "output_type": "stream",
     "text": [
      "[[55 15]\n",
      " [ 2 58]]\n"
     ]
    }
   ],
   "source": [
    "cm = confusion_matrix(y_test, logreg.predict(X_test))\n",
    "print(cm)"
   ]
  },
  {
   "cell_type": "code",
   "execution_count": 38,
   "metadata": {
    "collapsed": false
   },
   "outputs": [
    {
     "name": "stdout",
     "output_type": "stream",
     "text": [
      "MSE: 0.107692307692\n",
      "[[56 14]\n",
      " [ 0 60]]\n",
      "No affairs accuracy: 0.8\n",
      "Affairs accuracy: 1.0\n",
      "MCA: 0.9\n"
     ]
    }
   ],
   "source": [
    "# l2 penalty\n",
    "parameters = {'C':[.001, .01, 0.1, 1, 10, 100,1000]}\n",
    "logreg = LogisticRegression(penalty = 'l2')\n",
    "\n",
    "def mean_class_accuracy(estimator, X, y):\n",
    "    cm = confusion_matrix(y, estimator.predict(X))\n",
    "    cm_normalized = cm.astype('float') / cm.sum(axis=1)[:, np.newaxis]\n",
    "    return np.mean(cm_normalized.diagonal())\n",
    "\n",
    "clf = GridSearchCV(logreg, parameters, cv=5, scoring=mean_class_accuracy)\n",
    "clf.fit(X_train, y_train)\n",
    "predictions = clf.predict(X_test)\n",
    "print(\"MSE: {}\".format(mean_squared_error(predictions, y_test)))\n",
    "cm = confusion_matrix(y_test, predictions)\n",
    "print(cm)\n",
    "print(\"No affairs accuracy: {}\".format(cm[0][0]/np.float(sum(cm[0]))))\n",
    "print(\"Affairs accuracy: {}\".format(cm[1][1]/np.float(sum(cm[1]))))\n",
    "print(\"MCA: {}\".format(mean_class_accuracy(clf, X_test, y_test)))"
   ]
  },
  {
   "cell_type": "code",
   "execution_count": 39,
   "metadata": {
    "collapsed": false
   },
   "outputs": [
    {
     "name": "stdout",
     "output_type": "stream",
     "text": [
      "MSE: 0.115384615385\n",
      "[[56 14]\n",
      " [ 1 59]]\n",
      "No affairs accuracy: 0.8\n",
      "Affairs accuracy: 0.983333333333\n",
      "MCA: 0.891666666667\n"
     ]
    }
   ],
   "source": [
    "# l1 penalty\n",
    "parameters = {'C':[.001, .01, 0.1, 1, 10, 100, 1000]}\n",
    "logreg = LogisticRegression(penalty = 'l1')\n",
    "\n",
    "def mean_class_accuracy(estimator, X, y):\n",
    "    cm = confusion_matrix(y, estimator.predict(X))\n",
    "    cm_normalized = cm.astype('float') / cm.sum(axis=1)[:, np.newaxis]\n",
    "    return np.mean(cm_normalized.diagonal())\n",
    "\n",
    "clf = GridSearchCV(logreg, parameters, cv=5, scoring=mean_class_accuracy)\n",
    "clf.fit(X_train, y_train)\n",
    "predictions = clf.predict(X_test)\n",
    "print(\"MSE: {}\".format(mean_squared_error(predictions, y_test)))\n",
    "cm = confusion_matrix(y_test, predictions)\n",
    "print(cm)\n",
    "print(\"No affairs accuracy: {}\".format(cm[0][0]/np.float(sum(cm[0]))))\n",
    "print(\"Affairs accuracy: {}\".format(cm[1][1]/np.float(sum(cm[1]))))\n",
    "print(\"MCA: {}\".format(mean_class_accuracy(clf, X_test, y_test)))"
   ]
  },
  {
   "cell_type": "code",
   "execution_count": 40,
   "metadata": {
    "collapsed": false
   },
   "outputs": [
    {
     "data": {
      "text/plain": [
       "(262, 7)"
      ]
     },
     "execution_count": 40,
     "metadata": {},
     "output_type": "execute_result"
    }
   ],
   "source": [
    "X_train.shape"
   ]
  },
  {
   "cell_type": "markdown",
   "metadata": {},
   "source": [
    "Logistic Regression with $\\ell_2$ norm performed better than the on with $\\ell_1$ norm in terms of average per-class accuracy. Since the dataset has only 7 features, $\\ell_1$ norm doesn't affect that much which enforces sparsity to the model. Our model handled the different classes to be balanced as we used average per-class accuracy."
   ]
  },
  {
   "cell_type": "markdown",
   "metadata": {},
   "source": [
    "# Question 6: House Prices (kaggle competition) (25 pts)\n",
    "\n",
    "In this problem, we are going to explore a kaggle competition: [House Prices](https://www.kaggle.com/c/house-prices-advanced-regression-techniques). Your goal is to obtain the best score you can in this competition. This is an ongoing competition, and you have the opportunity to win the prize money! \n",
    "\n",
    "The first step is to make a Kaggle account. Then find the House Prices competition and read the competition details and the description of the dataset. You may find this [article](https://ww2.amstat.org/publications/jse/v19n3/decock.pdf) useful.\n",
    "\n",
    "Your work should meet the following requirements:\n",
    "\n",
    "1. Data Preprocessing. \n",
    " * Conduct some data preprocessing. (Hint: see if there is any skewed features and consider applying suitable transformation techniques to make them more \"normal\").\n",
    " * Impute the missing values (if any).\n",
    "2. Predictive Models. \n",
    " * You have to create at least three models: simple linear regression, Lasso and Ridge regression and multilayer perceptron. You may consider creating an ensemble of these models as well (optional). For Lasso and Ridge regression, optimize the alphas using cross validation. You may try other predictive models to get better scores (optional).\n",
    "3. Evaluation: submit your model to kaggle submission site and report the public score.\n",
    "\n",
    "Briefly describe your work on each of these steps. Explain (very briefly) what approaches you tried, what worked and what did not work. Mention your team's kaggle name and include a screen shot of your public submission score. Finally, try your best to win this competition!"
   ]
  },
  {
   "cell_type": "markdown",
   "metadata": {},
   "source": [
    "## Solution\n",
    "\n",
    "Varies."
   ]
  }
 ],
 "metadata": {
  "anaconda-cloud": {},
  "kernelspec": {
   "display_name": "Python [Root]",
   "language": "python",
   "name": "Python [Root]"
  },
  "language_info": {
   "codemirror_mode": {
    "name": "ipython",
    "version": 2
   },
   "file_extension": ".py",
   "mimetype": "text/x-python",
   "name": "python",
   "nbconvert_exporter": "python",
   "pygments_lexer": "ipython2",
   "version": "2.7.12"
  }
 },
 "nbformat": 4,
 "nbformat_minor": 0
}
